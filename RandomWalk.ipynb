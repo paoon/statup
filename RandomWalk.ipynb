{
 "cells": [
  {
   "cell_type": "code",
   "execution_count": 6,
   "metadata": {},
   "outputs": [
    {
     "name": "stdout",
     "output_type": "stream",
     "text": [
      "Enter the number of iterations:10000\n"
     ]
    },
    {
     "data": {
      "image/png": "[encoded data removed]",
      "text/plain": [
       "<matplotlib.figure.Figure at 0x10451a7d0>"
      ]
     },
     "metadata": {},
     "output_type": "display_data"
    }
   ],
   "source": [
    "import matplotlib.pyplot as plt\n",
    "import random\n",
    "\n",
    "def transformation_1(p):\n",
    "    x=p[0]\n",
    "    y=p[1]\n",
    "    return x+1, y-1\n",
    "\n",
    "def transformation_2(p):\n",
    "    x=p[0]\n",
    "    y=p[1]\n",
    "    return x+1, y+1\n",
    "\n",
    "def transform(p):\n",
    "    # list of transfotmation functions\n",
    "    transformations=[transformation_1, transformation_2]\n",
    "    # pick a random transformation function and call it\n",
    "    t=random.choice(transformations)\n",
    "    x,y=t(p)\n",
    "    return x,y\n",
    "\n",
    "def build_trajectory(p,n):\n",
    "    x=[p[0]]\n",
    "    y=[p[1]]\n",
    "    for i in range(n):\n",
    "        p=transform(p)\n",
    "        x.append(p[0])\n",
    "        y.append(p[1])\n",
    "    return x,y\n",
    "\n",
    "# initial point\n",
    "p=(1,1)\n",
    "n=int(input('Enter the number of iterations:'))\n",
    "x,y=build_trajectory(p,n)\n",
    "#plot\n",
    "plt.plot(x,y)\n",
    "plt.xlabel('X')\n",
    "plt.ylabel('Y')\n",
    "plt.show()"
   ]
  },
  {
   "cell_type": "code",
   "execution_count": null,
   "metadata": {
    "collapsed": true
   },
   "outputs": [],
   "source": []
  },
  {
   "cell_type": "code",
   "execution_count": null,
   "metadata": {
    "collapsed": true
   },
   "outputs": [],
   "source": []
  },
  {
   "cell_type": "code",
   "execution_count": null,
   "metadata": {
    "collapsed": true
   },
   "outputs": [],
   "source": []
  },
  {
   "cell_type": "code",
   "execution_count": null,
   "metadata": {
    "collapsed": true
   },
   "outputs": [],
   "source": []
  },
  {
   "cell_type": "code",
   "execution_count": null,
   "metadata": {
    "collapsed": true
   },
   "outputs": [],
   "source": []
  },
  {
   "cell_type": "code",
   "execution_count": null,
   "metadata": {
    "collapsed": true
   },
   "outputs": [],
   "source": []
  }
 ],
 "metadata": {
  "kernelspec": {
   "display_name": "Python 2",
   "language": "python",
   "name": "python2"
  },
  "language_info": {
   "codemirror_mode": {
    "name": "ipython",
    "version": 2
   },
   "file_extension": ".py",
   "mimetype": "text/x-python",
   "name": "python",
   "nbconvert_exporter": "python",
   "pygments_lexer": "ipython2",
   "version": "2.7.13"
  }
 },
 "nbformat": 4,
 "nbformat_minor": 2
}
