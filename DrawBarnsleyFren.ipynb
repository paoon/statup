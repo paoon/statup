{
 "cells": [
  {
   "cell_type": "code",
   "execution_count": 10,
   "metadata": {
    "scrolled": true
   },
   "outputs": [],
   "source": [
    "import random\n",
    "import matplotlib.pyplot as plt"
   ]
  },
  {
   "cell_type": "code",
   "execution_count": 11,
   "metadata": {
    "collapsed": true
   },
   "outputs": [],
   "source": [
    "def transformation_1(p):\n",
    "    x=p[0]\n",
    "    y=p[1]\n",
    "    x1=0.85*x+0.04*y\n",
    "    y1=-0.04*x+0.85*y+1.6\n",
    "    return x1,  y1"
   ]
  },
  {
   "cell_type": "code",
   "execution_count": 12,
   "metadata": {
    "collapsed": true
   },
   "outputs": [],
   "source": [
    "def transformation_2(p):\n",
    "    x=p[0]\n",
    "    y=p[1]\n",
    "    x1=0.2*x-0.26*y\n",
    "    y1=0.23*x+0.22*y+1.6\n",
    "    return x1,  y1"
   ]
  },
  {
   "cell_type": "code",
   "execution_count": 13,
   "metadata": {
    "collapsed": true
   },
   "outputs": [],
   "source": [
    "def transformation_3(p):\n",
    "    x=p[0]\n",
    "    y=p[1]\n",
    "    x1=-0.15*x+0.28*y\n",
    "    y1=0.26*x+0.24*y+0.44\n",
    "    return x1,  y1"
   ]
  },
  {
   "cell_type": "code",
   "execution_count": 14,
   "metadata": {
    "collapsed": true
   },
   "outputs": [],
   "source": [
    "def transformation_4(p):\n",
    "    x=p[0]\n",
    "    y=p[1]\n",
    "    x1=0\n",
    "    y1=0.16*y\n",
    "    return x1,  y1"
   ]
  },
  {
   "cell_type": "code",
   "execution_count": 15,
   "metadata": {
    "collapsed": true
   },
   "outputs": [],
   "source": [
    "def get_index(probability):\n",
    "    r=random.random()\n",
    "    c_probability=0\n",
    "    sum_probability=[]\n",
    "    for p in probability:\n",
    "        c_probability +=p\n",
    "        sum_probability.append(c_probability)\n",
    "    for item, sp in enumerate(sum_probability):\n",
    "        if r<=sp:\n",
    "            return item\n",
    "    return len(probability)-1\n",
    "\n",
    "# unifrom distribution から 欲しい分布を作る(詳しくは下)"
   ]
  },
  {
   "cell_type": "code",
   "execution_count": 16,
   "metadata": {
    "collapsed": true
   },
   "outputs": [],
   "source": [
    "def transform(p):\n",
    "    # list of transformation functions\n",
    "    transformations=[transformation_1, transformation_2, transformation_3,transformation_4]\n",
    "    probability=[0.85, 0.07, 0.07, 0.01]\n",
    "    # pick a random transformation function and call it\n",
    "    tindex=get_index(probability)\n",
    "    t=transformations[tindex]\n",
    "    x,y=t(p)\n",
    "    return x,y"
   ]
  },
  {
   "cell_type": "code",
   "execution_count": 17,
   "metadata": {
    "collapsed": true
   },
   "outputs": [],
   "source": [
    "def draw_fern(n):\n",
    "    # we start with (0,0)\n",
    "    x=[0]\n",
    "    y=[0]\n",
    "    \n",
    "    x1, y1=0, 0\n",
    "    for i in range(n):\n",
    "        x1, y1=transform((x1,y1))\n",
    "        x.append(x1)\n",
    "        y.append(y1)\n",
    "    return x,y"
   ]
  },
  {
   "cell_type": "code",
   "execution_count": 18,
   "metadata": {
    "collapsed": true
   },
   "outputs": [],
   "source": [
    "def plot_fern(n):\n",
    "    x,y=draw_fern(n)\n",
    "    # plot the points\n",
    "    plt.plot(x,y,'o')\n",
    "    plt.title(\"Fern with {0} points\".format(n))\n",
    "    plt.show()"
   ]
  },
  {
   "cell_type": "code",
   "execution_count": 19,
   "metadata": {},
   "outputs": [
    {
     "data": {
      "image/png": "[encoded data removed]",
      "text/plain": [
       "<matplotlib.figure.Figure at 0x1069ca950>"
      ]
     },
     "metadata": {},
     "output_type": "display_data"
    }
   ],
   "source": [
    "plot_fern(10000)"
   ]
  },
  {
   "cell_type": "code",
   "execution_count": 22,
   "metadata": {},
   "outputs": [
    {
     "name": "stdout",
     "output_type": "stream",
     "text": [
      "[0.85, 0.9199999999999999, 0.99, 1.0]\n",
      "1.0\n"
     ]
    }
   ],
   "source": [
    "probability=[0.85, 0.07, 0.07, 0.01]\n",
    "r=random.random()\n",
    "c_probability=0\n",
    "sum_probability=[]\n",
    "for p in probability:\n",
    "    c_probability +=p\n",
    "    sum_probability.append(c_probability)\n",
    "    \n",
    "print(sum_probability)\n",
    "print(c_probability)"
   ]
  },
  {
   "cell_type": "code",
   "execution_count": 28,
   "metadata": {},
   "outputs": [
    {
     "name": "stdout",
     "output_type": "stream",
     "text": [
      "0\n",
      "0.85\n",
      "1\n",
      "0.92\n",
      "2\n",
      "0.99\n",
      "3\n",
      "1.0\n"
     ]
    }
   ],
   "source": [
    "for item, sp in enumerate(sum_probability):\n",
    "\n",
    "    print (item)\n",
    "    print(sp)"
   ]
  }
 ],
 "metadata": {
  "kernelspec": {
   "display_name": "Python 2",
   "language": "python",
   "name": "python2"
  },
  "language_info": {
   "codemirror_mode": {
    "name": "ipython",
    "version": 2
   },
   "file_extension": ".py",
   "mimetype": "text/x-python",
   "name": "python",
   "nbconvert_exporter": "python",
   "pygments_lexer": "ipython2",
   "version": "2.7.13"
  }
 },
 "nbformat": 4,
 "nbformat_minor": 2
}
