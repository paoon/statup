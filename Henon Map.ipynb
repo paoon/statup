{
 "cells": [
  {
   "cell_type": "code",
   "execution_count": 1,
   "metadata": {
    "collapsed": true
   },
   "outputs": [],
   "source": [
    "import matplotlib.pyplot as plt"
   ]
  },
  {
   "cell_type": "code",
   "execution_count": 12,
   "metadata": {
    "collapsed": true
   },
   "outputs": [],
   "source": [
    "def HenonMap(p):\n",
    "    x=p[0]\n",
    "    y=p[1]\n",
    "    x1=-1.4*x**2+y+1\n",
    "    y1=0.3*x\n",
    "    return x1,  y1"
   ]
  },
  {
   "cell_type": "code",
   "execution_count": 13,
   "metadata": {
    "collapsed": true
   },
   "outputs": [],
   "source": [
    "def draw_HenonMap(n):\n",
    "    # we start with (1,1)\n",
    "    x=[1]\n",
    "    y=[1]\n",
    "    \n",
    "    x1, y1=1, 1\n",
    "    for i in range(n):\n",
    "        x1, y1=HenonMap((x1,y1))\n",
    "        x.append(x1)\n",
    "        y.append(y1)\n",
    "    return x,y"
   ]
  },
  {
   "cell_type": "code",
   "execution_count": 14,
   "metadata": {},
   "outputs": [
    {
     "data": {
      "text/plain": [
       "([1,\n",
       "  0.6000000000000001,\n",
       "  0.7959999999999998,\n",
       "  0.29293760000000046,\n",
       "  1.1186625875087355,\n",
       "  -0.6640870985684348,\n",
       "  0.7181824319735617,\n",
       "  0.0786734625958263,\n",
       "  1.2067894103885248,\n",
       "  -1.015274914657489,\n",
       "  -0.08105959014932296],\n",
       " [1,\n",
       "  0.3,\n",
       "  0.18000000000000002,\n",
       "  0.23879999999999993,\n",
       "  0.08788128000000013,\n",
       "  0.33559877625262063,\n",
       "  -0.19922612957053046,\n",
       "  0.2154547295920685,\n",
       "  0.02360203877874789,\n",
       "  0.36203682311655744,\n",
       "  -0.3045824743972467])"
      ]
     },
     "execution_count": 14,
     "metadata": {},
     "output_type": "execute_result"
    }
   ],
   "source": [
    "draw_HenonMap(10)"
   ]
  },
  {
   "cell_type": "code",
   "execution_count": 15,
   "metadata": {
    "collapsed": true
   },
   "outputs": [],
   "source": [
    "def plot_HenonMap(n):\n",
    "    x,y=draw_HenonMap(n)\n",
    "    # plot the points\n",
    "    plt.plot(x,y,'o')\n",
    "    plt.title(\"Henon Map\".format(n))\n",
    "    plt.show()"
   ]
  },
  {
   "cell_type": "code",
   "execution_count": 16,
   "metadata": {},
   "outputs": [
    {
     "data": {
      "image/png": "[encoded data removed]",
      "text/plain": [
       "<matplotlib.figure.Figure at 0x105cc20d0>"
      ]
     },
     "metadata": {},
     "output_type": "display_data"
    }
   ],
   "source": [
    "plot_HenonMap(100)"
   ]
  },
  {
   "cell_type": "code",
   "execution_count": 17,
   "metadata": {},
   "outputs": [
    {
     "data": {
      "image/png": "[encoded data removed]",
      "text/plain": [
       "<matplotlib.figure.Figure at 0x105de3c90>"
      ]
     },
     "metadata": {},
     "output_type": "display_data"
    }
   ],
   "source": [
    "plot_HenonMap(1000)"
   ]
  },
  {
   "cell_type": "code",
   "execution_count": 18,
   "metadata": {},
   "outputs": [
    {
     "data": {
      "image/png": "[encoded data removed]",
      "text/plain": [
       "<matplotlib.figure.Figure at 0x105efc090>"
      ]
     },
     "metadata": {},
     "output_type": "display_data"
    }
   ],
   "source": [
    "plot_HenonMap(10000)"
   ]
  },
  {
   "cell_type": "code",
   "execution_count": null,
   "metadata": {
    "collapsed": true
   },
   "outputs": [],
   "source": []
  },
  {
   "cell_type": "code",
   "execution_count": null,
   "metadata": {
    "collapsed": true
   },
   "outputs": [],
   "source": []
  }
 ],
 "metadata": {
  "kernelspec": {
   "display_name": "Python 2",
   "language": "python",
   "name": "python2"
  },
  "language_info": {
   "codemirror_mode": {
    "name": "ipython",
    "version": 2
   },
   "file_extension": ".py",
   "mimetype": "text/x-python",
   "name": "python",
   "nbconvert_exporter": "python",
   "pygments_lexer": "ipython2",
   "version": "2.7.13"
  }
 },
 "nbformat": 4,
 "nbformat_minor": 2
}
